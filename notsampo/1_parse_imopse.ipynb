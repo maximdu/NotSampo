{
 "cells": [
  {
   "cell_type": "code",
   "execution_count": null,
   "id": "9bb77a4b",
   "metadata": {},
   "outputs": [],
   "source": [
    "import json\n",
    "import numpy as np\n",
    "from decimal import Decimal"
   ]
  },
  {
   "cell_type": "markdown",
   "id": "0beaa313",
   "metadata": {},
   "source": [
    "## Open File"
   ]
  },
  {
   "cell_type": "code",
   "execution_count": null,
   "id": "ec122515",
   "metadata": {
    "scrolled": false
   },
   "outputs": [],
   "source": [
    "# Скачивание датасета:\n",
    "# http://imopse.ii.pwr.wroc.pl/download.html"
   ]
  },
  {
   "cell_type": "code",
   "execution_count": null,
   "id": "88659a72",
   "metadata": {},
   "outputs": [],
   "source": [
    "file_name = \"200_20_145_15\"\n",
    "with open(f\"data_imopse_raw/{file_name}.def\") as file:\n",
    "    data = file.read()\n",
    "    data = data.replace(\" \", \"\")\n",
    "    data = data.split(\"\\n\")"
   ]
  },
  {
   "cell_type": "markdown",
   "id": "9a77fe76",
   "metadata": {},
   "source": [
    "## Общая информация"
   ]
  },
  {
   "cell_type": "code",
   "execution_count": null,
   "id": "20b58afb",
   "metadata": {},
   "outputs": [],
   "source": [
    "sections = [i for i, value in enumerate(data) if value == \"=\"*116]\n",
    "sections"
   ]
  },
  {
   "cell_type": "code",
   "execution_count": null,
   "id": "0307464b",
   "metadata": {},
   "outputs": [],
   "source": [
    "section_general = sections[1]\n",
    "\n",
    "general_data = {\n",
    "    \"n_tasks\": int(data[section_general+2].split(\":\")[1]),\n",
    "    \"n_workers\": int(data[section_general+3].split(\":\")[1]),\n",
    "    \"n_precedence\": int(data[section_general+4].split(\":\")[1]),\n",
    "    \"n_skill_types\": int(data[section_general+5].split(\":\")[1]),\n",
    "}\n",
    "general_data"
   ]
  },
  {
   "cell_type": "markdown",
   "id": "5636f6b6",
   "metadata": {},
   "source": [
    "## Сотрудники"
   ]
  },
  {
   "cell_type": "code",
   "execution_count": null,
   "id": "55765e52",
   "metadata": {},
   "outputs": [],
   "source": [
    "section_resources = sections[2]"
   ]
  },
  {
   "cell_type": "code",
   "execution_count": null,
   "id": "33d36d17",
   "metadata": {},
   "outputs": [],
   "source": [
    "def dict_to_vector_skill(d):\n",
    "    vec = [0 for i in range(general_data[\"n_skill_types\"])]\n",
    "    for skill, level in d.items():\n",
    "        vec[int(skill.replace(\"Q\", \"\"))] = level + 1\n",
    "    return vec\n",
    "\n",
    "dict_to_vector_skill({'Q4': 2, 'Q8': 1, 'Q7': 0, 'Q2': 1, 'Q6': 2, 'Q13': 1})"
   ]
  },
  {
   "cell_type": "code",
   "execution_count": null,
   "id": "f9e12c3d",
   "metadata": {},
   "outputs": [],
   "source": [
    "resources = data[section_resources+2: section_resources+2+general_data[\"n_workers\"]]\n",
    "\n",
    "worker_pays = {}\n",
    "worker_skill_vectors = {}\n",
    "\n",
    "for i in resources:\n",
    "    id_, _, _, pay, _, *skills = i.split(\"\\t\")\n",
    "    id_ = int(id_) - 1\n",
    "    skills = [i for i in skills if i != \"\"]\n",
    "    \n",
    "    worker_pays[int(id_)] = int(Decimal(pay)*100)\n",
    "    worker_skill_vectors[int(id_)] = dict_to_vector_skill({\n",
    "        i.split(\":\")[0]: int(i.split(\":\")[1])\n",
    "        for i in skills\n",
    "    })"
   ]
  },
  {
   "cell_type": "markdown",
   "id": "f4e41ba9",
   "metadata": {},
   "source": [
    "## Задачи"
   ]
  },
  {
   "cell_type": "code",
   "execution_count": null,
   "id": "8cdf2d76",
   "metadata": {},
   "outputs": [],
   "source": [
    "tasks = [i.split(\"\\t\") for i in data[sections[3]+2:sections[3]+2+general_data[\"n_tasks\"]]]"
   ]
  },
  {
   "cell_type": "code",
   "execution_count": null,
   "id": "4d7f56e1",
   "metadata": {
    "scrolled": false
   },
   "outputs": [],
   "source": [
    "tast_durations = {}\n",
    "task_skill_vectors = {}\n",
    "task_depends_from = {}\n",
    "\n",
    "for i in tasks:\n",
    "    id_, _, _, duration, skill, _, *depend = i\n",
    "    depend = [int(i) for i in depend if i != \"\"]\n",
    "    \n",
    "    tast_durations[int(id_)] = int(duration)\n",
    "    task_skill_vectors[int(id_)] = dict_to_vector_skill(\n",
    "        {skill.split(\":\")[0]: int(skill.split(\":\")[1])}\n",
    "    )\n",
    "    task_depends_from[int(id_)] = depend\n",
    "    \n",
    "task_depends_from"
   ]
  },
  {
   "cell_type": "code",
   "execution_count": null,
   "id": "d339b7c4",
   "metadata": {},
   "outputs": [],
   "source": []
  },
  {
   "cell_type": "code",
   "execution_count": null,
   "id": "e85b4235",
   "metadata": {},
   "outputs": [],
   "source": [
    "N_TASKS = general_data[\"n_tasks\"]\n",
    "N_SKILLS = general_data[\"n_skill_types\"]\n",
    "\n",
    "# Добавляем фиктивные задачи\n",
    "# \"Начало всего проекта\" и \"конец всего проекта\"\n",
    "tast_durations[0] = 1\n",
    "tast_durations[N_TASKS+1] = 1\n",
    "\n",
    "task_skill_vectors[0] = [0 for i in range(N_SKILLS)]\n",
    "task_skill_vectors[N_TASKS+1] = [0 for i in range(N_SKILLS)]\n",
    "\n",
    "task_depends_from = {\n",
    "    key: value or [0]\n",
    "    for key, value in task_depends_from.items()\n",
    "}\n",
    "task_depends_from[N_TASKS+1] = [i for i in task_depends_from.keys()]\n",
    "task_depends_from[0] = []"
   ]
  },
  {
   "cell_type": "code",
   "execution_count": null,
   "id": "781a7d55",
   "metadata": {},
   "outputs": [],
   "source": []
  },
  {
   "cell_type": "code",
   "execution_count": null,
   "id": "028079cf",
   "metadata": {
    "scrolled": false
   },
   "outputs": [],
   "source": [
    "with open(f\"imopse_parsed/{file_name}.json\", \"w\") as save_file:\n",
    "    result = {\n",
    "        \"info\": general_data,\n",
    "        \"worker_pays\": worker_pays,\n",
    "        \"worker_skill_vectors\": worker_skill_vectors,\n",
    "        \n",
    "        \"tast_durations\": tast_durations,\n",
    "        \"task_skill_vectors\": task_skill_vectors,\n",
    "        \"task_depends_from\": task_depends_from,\n",
    "    }\n",
    "    json.dump(result, save_file)"
   ]
  },
  {
   "cell_type": "code",
   "execution_count": null,
   "id": "b025e64d",
   "metadata": {},
   "outputs": [],
   "source": []
  },
  {
   "cell_type": "code",
   "execution_count": null,
   "id": "13474e31",
   "metadata": {},
   "outputs": [],
   "source": []
  },
  {
   "cell_type": "code",
   "execution_count": null,
   "id": "884bb9e6",
   "metadata": {},
   "outputs": [],
   "source": []
  }
 ],
 "metadata": {
  "kernelspec": {
   "display_name": "Python 3 (ipykernel)",
   "language": "python",
   "name": "python3"
  },
  "language_info": {
   "codemirror_mode": {
    "name": "ipython",
    "version": 3
   },
   "file_extension": ".py",
   "mimetype": "text/x-python",
   "name": "python",
   "nbconvert_exporter": "python",
   "pygments_lexer": "ipython3",
   "version": "3.11.5"
  }
 },
 "nbformat": 4,
 "nbformat_minor": 5
}
